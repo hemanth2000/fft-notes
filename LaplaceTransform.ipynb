{
  "nbformat": 4,
  "nbformat_minor": 0,
  "metadata": {
    "colab": {
      "name": "LaplaceTransform.ipynb",
      "provenance": [],
      "collapsed_sections": [],
      "toc_visible": true,
      "authorship_tag": "ABX9TyNxbgSPq0LOZhte+y3c1Mta",
      "include_colab_link": true
    },
    "kernelspec": {
      "name": "python3",
      "display_name": "Python 3"
    },
    "language_info": {
      "name": "python"
    }
  },
  "cells": [
    {
      "cell_type": "markdown",
      "metadata": {
        "id": "view-in-github",
        "colab_type": "text"
      },
      "source": [
        "<a href=\"https://colab.research.google.com/github/hemanth2000/fft-notes/blob/main/LaplaceTransform.ipynb\" target=\"_parent\"><img src=\"https://colab.research.google.com/assets/colab-badge.svg\" alt=\"Open In Colab\"/></a>"
      ]
    },
    {
      "cell_type": "markdown",
      "source": [
        "# Laplace Transform\n",
        "\n",
        "Laplace Transform is the generalized Fourier Transform.\n",
        "\n",
        "It applied to convert PDEs to ODEs, ODEs to Algebraic equations. \n",
        "\n",
        "Fourier Transform is applied for functions that goes to 0 at $-\\infty$ and $\\infty$. There are many functions that do not satisfy this condition. \n",
        "\n",
        "Ex: Exponential function, Heaviside function \n",
        "\n",
        "\n",
        "Let $f(t)$ be the function that doesn't tend to zero at $∞$ and $-∞$.\n",
        "\n",
        "Multiply $f(t)$ with $H(t)$ and $e^{-\\gamma t}$ and the new function is represented by F(t).\n",
        "\n",
        "$$F(t) = f(t) e^{-\\gamma t} H(t)$$\n",
        "\n",
        "Fourier Transform can be applied on $F(t)$.\n",
        "\n",
        "\\begin{align}\n",
        "\\hat{F}(\\omega)&=\\int_{-∞}^{∞}F(t) e^{-i\\omega t} dt = \\int_{0}^{∞}f(t) e^{- \\gamma t} e^{-i\\omega t} dt\\\\\n",
        "&=\\int_{0}^{∞} f(t) e^{-(\\gamma+i\\omega)t}dt \\\\\n",
        "& = \\int_{0}^{∞} f(t) e^{-st}dt = \\bar{f}(s)\n",
        "\\end{align}\n",
        "\n",
        "In summary, \n",
        "\n",
        "$$ \\bar{f}(s) = \\int_{0}^{∞} f(t) e^{-st}dt $$\n",
        "\n",
        "$$ f(t) = \\frac{1}{2\\pi i}\\int_{\\gamma-i∞}^{\\gamma+i∞} \\bar{f}(s) e^{st}ds $$\n"
      ],
      "metadata": {
        "id": "yQkkJ7TeCC_I"
      }
    },
    {
      "cell_type": "markdown",
      "source": [
        "# Laplace Transform Properties\n",
        "\n",
        "$$L\\left[\\dot{f}\\right]= s\\bar{f}(s)-f(0)$$"
      ],
      "metadata": {
        "id": "eG1A63C7KEyy"
      }
    },
    {
      "cell_type": "markdown",
      "source": [
        "# Laplace Transform on ODEs\n",
        "\n",
        "\n",
        "Consider the physics of simple spring mass damper system. The system dynamics is 2nd order ode.\n",
        "\n",
        "$$\\ddot{x}+a\\dot{x}+bx=0$$\n",
        "\n",
        "Applying Laplace Transform on this ode.\n",
        "\n",
        "$$s^2\\bar{x}-sx(0)-\\dot{x}(0)+a(s\\bar{x}-x(0))+b\\bar{x}=0$$\n",
        "\n",
        "$$x(s)=\\frac{sx(0)+ax(0)+\\dot{x}(0)}{s^2+as+b}$$\n",
        "\n",
        "We have converted the ordinary differential equation into algebraic equation. After that apply inverse Laplace Transform to get the final solution. "
      ],
      "metadata": {
        "id": "gES7fQbCHfhc"
      }
    }
  ]
}